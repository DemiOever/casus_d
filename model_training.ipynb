{
 "cells": [
  {
   "cell_type": "code",
   "execution_count": 86,
   "metadata": {},
   "outputs": [],
   "source": [
    "import os\n",
    "from PIL import Image\n",
    "import matplotlib.pyplot as plt\n",
    "import numpy as np\n",
    "import cv2\n",
    "import random\n",
    "import tensorflow as tf\n",
    "from tensorflow.math import confusion_matrix\n",
    "import keras\n",
    "import seaborn as sns"
   ]
  },
  {
   "cell_type": "code",
   "execution_count": 73,
   "metadata": {},
   "outputs": [],
   "source": [
    "train_images = []\n",
    "test_images = []\n",
    "train_labels = []\n",
    "test_labels = []\n",
    "current_map = \"idc_regular\"\n",
    "patient = [file for file in os.listdir(current_map)]"
   ]
  },
  {
   "cell_type": "code",
   "execution_count": 74,
   "metadata": {},
   "outputs": [],
   "source": [
    "counter = 0\n",
    "for person in patient:\n",
    "    counter += 1\n",
    "    pos_path = f\"{current_map}/{person}/1\"\n",
    "    neg_path = f\"{current_map}/{person}/0\"\n",
    "    if counter == 5:\n",
    "        pos_files = os.listdir(pos_path)\n",
    "        length_pos = len(pos_files)\n",
    "        for ind in random.sample(range(0, length_pos), int(length_pos/4)):\n",
    "            saved = np.asarray(Image.open(f\"{pos_path}/{pos_files[ind]}\"))\n",
    "            if saved.shape == (50, 50, 3):\n",
    "                test_images.append(saved)\n",
    "                test_labels.append(1)\n",
    "        neg_files = os.listdir(neg_path)\n",
    "        length_neg = len(neg_files)\n",
    "        for ind in random.sample(range(0, length_neg), int(length_neg/4)):\n",
    "            saved = np.asarray(Image.open(f\"{neg_path}/{neg_files[ind]}\"))\n",
    "            if saved.shape == (50, 50, 3):\n",
    "                test_images.append(saved)\n",
    "                test_labels.append(0)\n",
    "        counter = 0\n",
    "    else:\n",
    "        pos_files = os.listdir(pos_path)\n",
    "        length_pos = len(pos_files)\n",
    "        for ind in random.sample(range(0, length_pos), int(length_pos/4)):\n",
    "            saved = np.asarray(Image.open(f\"{pos_path}/{pos_files[ind]}\"))\n",
    "            if saved.shape == (50, 50, 3):\n",
    "                train_images.append(saved)\n",
    "                train_labels.append(1)\n",
    "        neg_files = os.listdir(neg_path)\n",
    "        length_neg = len(neg_files)\n",
    "        for ind in random.sample(range(0, length_neg), int(length_neg/4)):\n",
    "            saved = np.asarray(Image.open(f\"{neg_path}/{neg_files[ind]}\"))\n",
    "            if saved.shape == (50, 50, 3):\n",
    "                train_images.append(saved)\n",
    "                train_labels.append(0)\n",
    "\n",
    "train_images = np.array(train_images)\n",
    "train_labels = np.array(train_labels)\n",
    "test_images = np.array(test_images)\n",
    "test_labels = np.array(test_labels)"
   ]
  },
  {
   "cell_type": "code",
   "execution_count": 94,
   "metadata": {},
   "outputs": [
    {
     "data": {
      "text/plain": [
       "(14786, 50, 50, 3)"
      ]
     },
     "execution_count": 94,
     "metadata": {},
     "output_type": "execute_result"
    }
   ],
   "source": [
    "test_images.shape"
   ]
  },
  {
   "cell_type": "code",
   "execution_count": 99,
   "metadata": {},
   "outputs": [
    {
     "name": "stderr",
     "output_type": "stream",
     "text": [
      "c:\\Users\\gielb\\AppData\\Local\\Programs\\Python\\Python310\\lib\\site-packages\\keras\\src\\layers\\reshaping\\flatten.py:37: UserWarning: Do not pass an `input_shape`/`input_dim` argument to a layer. When using Sequential models, prefer using an `Input(shape)` object as the first layer in the model instead.\n",
      "  super().__init__(**kwargs)\n"
     ]
    }
   ],
   "source": [
    "model = keras.Sequential([\n",
    "    keras.layers.Flatten(input_shape=(50, 50, 3)),    # images are 28 x 28\n",
    "    keras.layers.Dense(128, activation='relu'), # Could be lower for my computer\n",
    "    keras.layers.Dense(10, activation=\"softmax\") # Number between the 0 and 1\n",
    "])\n",
    "\n",
    "model.compile(optimizer=keras.optimizers.Adam(0.001),\n",
    "              loss=keras.losses.SparseCategoricalCrossentropy(), # from_logits=True\n",
    "              metrics=[keras.metrics.SparseCategoricalAccuracy()])"
   ]
  },
  {
   "cell_type": "code",
   "execution_count": 100,
   "metadata": {},
   "outputs": [
    {
     "name": "stdout",
     "output_type": "stream",
     "text": [
      "Epoch 1/6\n",
      "\u001b[1m1682/1682\u001b[0m \u001b[32m━━━━━━━━━━━━━━━━━━━━\u001b[0m\u001b[37m\u001b[0m \u001b[1m16s\u001b[0m 9ms/step - loss: 187.3179 - sparse_categorical_accuracy: 0.6865\n",
      "Epoch 2/6\n",
      "\u001b[1m1682/1682\u001b[0m \u001b[32m━━━━━━━━━━━━━━━━━━━━\u001b[0m\u001b[37m\u001b[0m \u001b[1m14s\u001b[0m 8ms/step - loss: 63.0905 - sparse_categorical_accuracy: 0.7199\n",
      "Epoch 3/6\n",
      "\u001b[1m1682/1682\u001b[0m \u001b[32m━━━━━━━━━━━━━━━━━━━━\u001b[0m\u001b[37m\u001b[0m \u001b[1m15s\u001b[0m 9ms/step - loss: 9.8858 - sparse_categorical_accuracy: 0.7241\n",
      "Epoch 4/6\n",
      "\u001b[1m1682/1682\u001b[0m \u001b[32m━━━━━━━━━━━━━━━━━━━━\u001b[0m\u001b[37m\u001b[0m \u001b[1m16s\u001b[0m 10ms/step - loss: 1.0282 - sparse_categorical_accuracy: 0.7895\n",
      "Epoch 5/6\n",
      "\u001b[1m1682/1682\u001b[0m \u001b[32m━━━━━━━━━━━━━━━━━━━━\u001b[0m\u001b[37m\u001b[0m \u001b[1m16s\u001b[0m 10ms/step - loss: 0.5937 - sparse_categorical_accuracy: 0.7830\n",
      "Epoch 6/6\n",
      "\u001b[1m1682/1682\u001b[0m \u001b[32m━━━━━━━━━━━━━━━━━━━━\u001b[0m\u001b[37m\u001b[0m \u001b[1m15s\u001b[0m 9ms/step - loss: 0.5019 - sparse_categorical_accuracy: 0.7798\n"
     ]
    }
   ],
   "source": [
    "hist = model.fit(train_images, train_labels, epochs=6)"
   ]
  },
  {
   "cell_type": "code",
   "execution_count": 101,
   "metadata": {},
   "outputs": [
    {
     "data": {
      "text/plain": [
       "[<matplotlib.lines.Line2D at 0x23585c11630>]"
      ]
     },
     "execution_count": 101,
     "metadata": {},
     "output_type": "execute_result"
    },
    {
     "data": {
      "image/png": "[encoded data removed]",
      "text/plain": [
       "<Figure size 640x480 with 1 Axes>"
      ]
     },
     "metadata": {},
     "output_type": "display_data"
    }
   ],
   "source": [
    "plt.plot(hist.history['sparse_categorical_accuracy'])"
   ]
  },
  {
   "cell_type": "code",
   "execution_count": 102,
   "metadata": {},
   "outputs": [
    {
     "name": "stdout",
     "output_type": "stream",
     "text": [
      "\u001b[1m463/463\u001b[0m \u001b[32m━━━━━━━━━━━━━━━━━━━━\u001b[0m\u001b[37m\u001b[0m \u001b[1m1s\u001b[0m 2ms/step\n"
     ]
    },
    {
     "data": {
      "text/plain": [
       "<Axes: >"
      ]
     },
     "execution_count": 102,
     "metadata": {},
     "output_type": "execute_result"
    },
    {
     "data": {
      "image/png": "[encoded data removed]",
      "text/plain": [
       "<Figure size 640x480 with 2 Axes>"
      ]
     },
     "metadata": {},
     "output_type": "display_data"
    }
   ],
   "source": [
    "y_pred = model.predict(test_images)\n",
    "df = np.asarray(confusion_matrix(np.argmax(y_pred, axis=1), test_labels))\n",
    "sns.heatmap(df, annot=True, cmap='coolwarm')"
   ]
  },
  {
   "cell_type": "markdown",
   "metadata": {},
   "source": [
    "Uit de confusionmatrix en accuracy plot blijkt dat het model het beste scoort bij de 5/6 epochs. Bij 5 epochs is de accuracy hoger, alleen bij 6 epochs is het aantal true positive voorspellingen hoger. <br>\n",
    "Helaas blijft het aantal false negatives vrij hoog, ongeacht het aantal epochs. Dit betekend dat het model aangeeft dat er geen sprake van een tumor is, terwijl dit in werkelijkheid wel zo is. De reden hiervoor is het gebruik van een hoger aantal negatieve afbeeldingen bij het trainen van het model (zoals in de EDA te zien is). Hierdoor zal het aantal false negative voorspellingen altijd hoog blijven. <br>\n",
    "False positives zijn minder erg, aangezien dan een patient later nog kan horen dat hij geen kanker heeft. Hierdoor maken deze niet al te veel uit,waardoor deze niet direct worden meegenomen in het maken van een keuze voor het 'beste' model. <br>\n",
    "Door de betere voorspellingen voor tumoren bij 6 epochs, ondanks de lagere accuracy, wordt ervoor gekozen om 6 epochs te gebruiken."
   ]
  }
 ],
 "metadata": {
  "kernelspec": {
   "display_name": "Python 3",
   "language": "python",
   "name": "python3"
  },
  "language_info": {
   "codemirror_mode": {
    "name": "ipython",
    "version": 3
   },
   "file_extension": ".py",
   "mimetype": "text/x-python",
   "name": "python",
   "nbconvert_exporter": "python",
   "pygments_lexer": "ipython3",
   "version": "3.10.7"
  }
 },
 "nbformat": 4,
 "nbformat_minor": 2
}
