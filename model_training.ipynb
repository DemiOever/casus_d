{
 "cells": [
  {
   "cell_type": "markdown",
   "metadata": {},
   "source": [
    "# Machine learning voor tumor afbeelding herkenning (opdracht 2)\n",
    "\n",
    "### Imports"
   ]
  },
  {
   "cell_type": "code",
   "execution_count": 1,
   "metadata": {},
   "outputs": [],
   "source": [
    "# All import statements used in the code\n",
    "# File paths\n",
    "import os\n",
    "\n",
    "# Loading images\n",
    "from PIL import Image\n",
    "import cv2\n",
    "\n",
    "# Calculations\n",
    "import numpy as np\n",
    "import random\n",
    "\n",
    "# Model evaluation and training\n",
    "import tensorflow as tf\n",
    "from tensorflow.math import confusion_matrix\n",
    "import keras\n",
    "\n",
    "# Plotting\n",
    "import seaborn as sns\n",
    "import matplotlib.pyplot as plt"
   ]
  },
  {
   "cell_type": "markdown",
   "metadata": {},
   "source": [
    "### Data inladen"
   ]
  },
  {
   "cell_type": "code",
   "execution_count": 2,
   "metadata": {},
   "outputs": [],
   "source": [
    "# make variables for saving the images/labels\n",
    "train_images = []\n",
    "test_images = []\n",
    "train_labels = []\n",
    "test_labels = []\n",
    "\n",
    "# Get all the patient directories\n",
    "current_map = \"idc_regular\"\n",
    "patient = [file for file in os.listdir(current_map)]"
   ]
  },
  {
   "cell_type": "code",
   "execution_count": 3,
   "metadata": {},
   "outputs": [],
   "source": [
    "# Counter is used to split data into test and training (80/20)\n",
    "counter = 0\n",
    "\n",
    "# For each patient data images are collected\n",
    "for person in patient:\n",
    "    counter += 1\n",
    "    # File paths to the positive and negative images (each patient)\n",
    "    pos_path = f\"{current_map}/{person}/1\"\n",
    "    neg_path = f\"{current_map}/{person}/0\"\n",
    "    \n",
    "    # Every 5th patient's data is used as test data\n",
    "    if counter == 5:\n",
    "        # Get all the positive image names\n",
    "        pos_files = os.listdir(pos_path)\n",
    "        length_pos = len(pos_files)\n",
    "        # Only use a (random) quater of all the positive images\n",
    "        for ind in random.sample(range(0, length_pos), int(length_pos/4)):\n",
    "            saved = np.asarray(Image.open(f\"{pos_path}/{pos_files[ind]}\"))\n",
    "            # Only the complete images are used\n",
    "            if saved.shape == (50, 50, 3):\n",
    "                test_images.append(saved)\n",
    "                test_labels.append(1)\n",
    "    \n",
    "        # Get all the negative image names\n",
    "        neg_files = os.listdir(neg_path)\n",
    "        length_neg = len(neg_files)\n",
    "        # Only use a (random) quater of all the negative images\n",
    "        for ind in random.sample(range(0, length_neg), int(length_neg/4)):\n",
    "            saved = np.asarray(Image.open(f\"{neg_path}/{neg_files[ind]}\"))\n",
    "            # Only the complete images are used\n",
    "            if saved.shape == (50, 50, 3):\n",
    "                test_images.append(saved)\n",
    "                test_labels.append(0)\n",
    "        # Reset the counter to split the data correctly\n",
    "        counter = 0\n",
    "\n",
    "    # All the other patient's data is used as train data\n",
    "    else:\n",
    "        # Get all the positve image names\n",
    "        pos_files = os.listdir(pos_path)\n",
    "        length_pos = len(pos_files)\n",
    "        # Only select a (random) quater of all positive images\n",
    "        for ind in random.sample(range(0, length_pos), int(length_pos/4)):\n",
    "            saved = np.asarray(Image.open(f\"{pos_path}/{pos_files[ind]}\"))\n",
    "            # Only the complete images are saved\n",
    "            if saved.shape == (50, 50, 3):\n",
    "                train_images.append(saved)\n",
    "                train_labels.append(1)\n",
    "\n",
    "        # Get all the negative image names\n",
    "        neg_files = os.listdir(neg_path)\n",
    "        length_neg = len(neg_files)\n",
    "        # Only select a (random) quater of all the negative images\n",
    "        for ind in random.sample(range(0, length_neg), int(length_neg/4)):\n",
    "            saved = np.asarray(Image.open(f\"{neg_path}/{neg_files[ind]}\"))\n",
    "            # Only the complete images are saved\n",
    "            if saved.shape == (50, 50, 3):\n",
    "                train_images.append(saved)\n",
    "                train_labels.append(0)\n",
    "\n",
    "# Set all the lists to numpy array for eassier model training\n",
    "train_images = np.array(train_images)\n",
    "train_labels = np.array(train_labels)\n",
    "test_images = np.array(test_images)\n",
    "test_labels = np.array(test_labels)"
   ]
  },
  {
   "cell_type": "markdown",
   "metadata": {},
   "source": [
    "Voor de bovenstaande code is ervoor gekozen om niet alle afbeeldingen in te laden. Er wordt een kwart van de negatieve en kwart van de positieve afbeeldingen van elke patiënt gebruikt. Deze afbeeldingen worden hierbij random gekozen, om te voorkomen dat de x- en y-coördinaten van de afbeeldingen (te) dicht bij elkaar liggen. <br>\n",
    "De reden om de hoeveelheid data te verkleinen is om zo de runtime flink te verkorten. Daarnaast wordt ook overfitting op de data van een bepaalde patiënt voorkomen, doordat het gebruik van een kwart een grotere hoeveelheid data wegneemt bij deze patiënten.\n",
    "\n",
    "Daarnaast worden ook de niet complete afbeeldingen ((50, 50, 3)), niet gebruikt voor het trainen van het model. Voor een np.array moeten de grotes (van de afbeeldingen) constant zijn, waardoor het toestaan van incomplete afbeeldingen een error oplevert. Daarbij maakt dit het trainen van het model een stuk gemakkelijker, waardoor hiervoor is gekozen."
   ]
  },
  {
   "cell_type": "code",
   "execution_count": 6,
   "metadata": {},
   "outputs": [
    {
     "data": {
      "text/plain": [
       "(53836, 50, 50, 3)"
      ]
     },
     "execution_count": 6,
     "metadata": {},
     "output_type": "execute_result"
    }
   ],
   "source": [
    "train_images.shape"
   ]
  },
  {
   "cell_type": "markdown",
   "metadata": {},
   "source": [
    "In ons geval worden er ruim 53.000 train afbeeldingen en 14.000 test afbeeldingen overgehouden na het inladen van de data. Elke keer dat de data wordt ingeladen kan dit variëren (door het gebruik van random), waardoor de resultaten kunnen afwijken van de door ons gevormde resultaten."
   ]
  },
  {
   "cell_type": "markdown",
   "metadata": {},
   "source": [
    "### Model aanmaken"
   ]
  },
  {
   "cell_type": "code",
   "execution_count": 28,
   "metadata": {},
   "outputs": [
    {
     "name": "stderr",
     "output_type": "stream",
     "text": [
      "c:\\Users\\gielb\\AppData\\Local\\Programs\\Python\\Python310\\lib\\site-packages\\keras\\src\\layers\\reshaping\\flatten.py:37: UserWarning: Do not pass an `input_shape`/`input_dim` argument to a layer. When using Sequential models, prefer using an `Input(shape)` object as the first layer in the model instead.\n",
      "  super().__init__(**kwargs)\n"
     ]
    }
   ],
   "source": [
    "model = keras.Sequential([\n",
    "    keras.layers.Flatten(input_shape=(50, 50, 3)),\n",
    "    keras.layers.Dense(128, activation='relu'), # Could be lower for my computer\n",
    "    keras.layers.Dense(2, activation=\"softmax\") # Number between the 0 and 1\n",
    "])\n",
    "\n",
    "model.compile(optimizer=keras.optimizers.Adam(0.001),\n",
    "              loss=keras.losses.SparseCategoricalCrossentropy(), # from_logits=True\n",
    "              metrics=[keras.metrics.SparseCategoricalAccuracy()])"
   ]
  },
  {
   "cell_type": "markdown",
   "metadata": {},
   "source": [
    "Het model kan worden uitgebreid voor mogelijk betere resultaten."
   ]
  },
  {
   "cell_type": "markdown",
   "metadata": {},
   "source": [
    "### Model trainen"
   ]
  },
  {
   "cell_type": "code",
   "execution_count": 29,
   "metadata": {},
   "outputs": [
    {
     "name": "stdout",
     "output_type": "stream",
     "text": [
      "Epoch 1/5\n",
      "\u001b[1m1683/1683\u001b[0m \u001b[32m━━━━━━━━━━━━━━━━━━━━\u001b[0m\u001b[37m\u001b[0m \u001b[1m24s\u001b[0m 13ms/step - loss: 90.1263 - sparse_categorical_accuracy: 0.6963\n",
      "Epoch 2/5\n",
      "\u001b[1m1683/1683\u001b[0m \u001b[32m━━━━━━━━━━━━━━━━━━━━\u001b[0m\u001b[37m\u001b[0m \u001b[1m19s\u001b[0m 11ms/step - loss: 16.4943 - sparse_categorical_accuracy: 0.7234\n",
      "Epoch 3/5\n",
      "\u001b[1m1683/1683\u001b[0m \u001b[32m━━━━━━━━━━━━━━━━━━━━\u001b[0m\u001b[37m\u001b[0m \u001b[1m21s\u001b[0m 12ms/step - loss: 5.5421 - sparse_categorical_accuracy: 0.7284\n",
      "Epoch 4/5\n",
      "\u001b[1m1683/1683\u001b[0m \u001b[32m━━━━━━━━━━━━━━━━━━━━\u001b[0m\u001b[37m\u001b[0m \u001b[1m22s\u001b[0m 13ms/step - loss: 0.9433 - sparse_categorical_accuracy: 0.7539\n",
      "Epoch 5/5\n",
      "\u001b[1m1683/1683\u001b[0m \u001b[32m━━━━━━━━━━━━━━━━━━━━\u001b[0m\u001b[37m\u001b[0m \u001b[1m22s\u001b[0m 13ms/step - loss: 0.4585 - sparse_categorical_accuracy: 0.7909\n"
     ]
    }
   ],
   "source": [
    "hist = model.fit(train_images, train_labels, epochs=5)"
   ]
  },
  {
   "cell_type": "markdown",
   "metadata": {},
   "source": [
    "Het inladen van de data is een proces dat lang duurt, waarna een deel van de data wordt overgehouden. Een voordeel hiervan is dat het trainen van het model hierdoor een stuk sneller gaat. Het is aangeraden om het aantal epochs of het aantal/soort layers van het model te veranderen. <br>\n",
    "Dit model is getest op meerdere epochs en layer soorten, alleen gaven de bovenstaande instelling de beste resultaten. Bij **model evaluatie** wordt dit verder besproken.\n",
    "\n",
    "### Model evaluatie"
   ]
  },
  {
   "cell_type": "code",
   "execution_count": 32,
   "metadata": {},
   "outputs": [
    {
     "data": {
      "image/png": "[encoded data removed]",
      "text/plain": [
       "<Figure size 640x480 with 1 Axes>"
      ]
     },
     "metadata": {},
     "output_type": "display_data"
    }
   ],
   "source": [
    "plt.plot(hist.history['sparse_categorical_accuracy'])\n",
    "plt.title(\"Sparse categorical accuracy\")\n",
    "plt.show()"
   ]
  },
  {
   "cell_type": "code",
   "execution_count": 31,
   "metadata": {},
   "outputs": [
    {
     "name": "stdout",
     "output_type": "stream",
     "text": [
      "\u001b[1m463/463\u001b[0m \u001b[32m━━━━━━━━━━━━━━━━━━━━\u001b[0m\u001b[37m\u001b[0m \u001b[1m2s\u001b[0m 4ms/step\n"
     ]
    },
    {
     "data": {
      "text/plain": [
       "<Axes: >"
      ]
     },
     "execution_count": 31,
     "metadata": {},
     "output_type": "execute_result"
    },
    {
     "data": {
      "image/png": "[encoded data removed]",
      "text/plain": [
       "<Figure size 640x480 with 2 Axes>"
      ]
     },
     "metadata": {},
     "output_type": "display_data"
    }
   ],
   "source": [
    "y_pred = model.predict(test_images)\n",
    "df = np.asarray(confusion_matrix(np.argmax(y_pred, axis=1), test_labels))\n",
    "sns.heatmap(df, annot=True, cmap='coolwarm')"
   ]
  },
  {
   "cell_type": "markdown",
   "metadata": {},
   "source": [
    "Bij het trainen van het model zijn er meerdere dingen geprobeerd. Eerst is het goed om te weten waarop een model (door ons) beoordeeeld wordt en waarop juist minder. <br>\n",
    "Er wordt niet echt gekeken naar de accuracy van het model. De hoofdreden hiervoor is de accuracy een vertekend beeld geeft door de grote hoeveelheid negatieve afbeeldingen tegenover de positieve afbeeldingen. Doordat deze verhouding niet (bijna) gelijk is, kan het model altijd negatief voorspellen, een een accuracy van boven de 0.7 hebben. <br>\n",
    "Met deze reden wordt er vooral gekeken naar de confusionmatrix, waarin de voorspellingen van het model (x-as) tegenover de werkelijke waarde zichtbaar zijn (y-as). Hiermee kan dus goed naar de voorspellingen van het model gekeken worden, waardoor deze voor de evaluatie gebruikt wordt. In deze matrix zijn natuurlijk true positive en true negative het meest gewenst. Ondanks dat false positive incorrect is, kan met verder onderzoek worden vastgesteld dat de patiënt geen tumor heeft. Dit is daarom meer gewenst dan false negative, waarbij de patiënt wel een tumor heeft maar dit niet wordt opgemerkt door het model.\n",
    "\n",
    "Bij het gebruik van 8 of meer epochs deed het model alleen negatieve voorspelling. De reden hiervoor is de grotere hoeveelheid negatieve waarden in combinatie met overfitting. Ook bij het gebruik van 7 epochs worden er weinig positieve voorspellingen gedaan, waardoor steeds met 5/6 epochs getest is. Bij deze epochs is de accuracy het hoogst en worden zowel positieve als negatieve voorspellingen gedaan. <br>\n",
    "Eerst is voor de laaste Dense layer 10 gebruikt. Ondanks dat dit model goed scoorde voor de True negative en True positive, is het uiteindelijk niet het beste model gebleken. Het *beste* model was het model met bij de laatste Dense layer 2 en is getraind op 5 Epochs. Bij de 5 Epochs was de accuracy hoog (zie de *sparse categorical accuracy* plot) en alles boven de 5 epochs gaf alleen maar negatieve voorspellingen. <br>\n",
    "Tot slot is ook geprobeerd om nog een extra Dense layer van 256 toe te voegen, alleen zorgde ook dit ervoor dat er alleen maar negatieve voorspellingen gedaan werden.\n",
    "\n",
    "### **Conclusie**\n",
    "\n",
    "Het model met twee Dense layers (128 en 2, zie *model aanmaken*) getraind met 5 Epochs is het beste instaat om de te voorspellen of een afbeelding positief of negatief is voor tumoren. <br>\n",
    "Het model zou verbeterd kunnen worden door gebruik te maken van een gelijkere verdeling van positieve en negatieve afbeeldingen. Alleen wordt dit door een te kort aan tijd helaas niet getest."
   ]
  }
 ],
 "metadata": {
  "kernelspec": {
   "display_name": "Python 3",
   "language": "python",
   "name": "python3"
  },
  "language_info": {
   "codemirror_mode": {
    "name": "ipython",
    "version": 3
   },
   "file_extension": ".py",
   "mimetype": "text/x-python",
   "name": "python",
   "nbconvert_exporter": "python",
   "pygments_lexer": "ipython3",
   "version": "3.10.7"
  }
 },
 "nbformat": 4,
 "nbformat_minor": 2
}
